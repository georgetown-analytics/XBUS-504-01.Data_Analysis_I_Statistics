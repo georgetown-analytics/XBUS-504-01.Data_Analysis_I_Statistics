{
 "cells": [
  {
   "cell_type": "markdown",
   "metadata": {},
   "source": [
    "## Python Repeated Measures ANOVA using Statsmodels AnovaRM\n",
    "\n",
    "Based on: https://github.com/marsja/jupyter/blob/master/Python%20repeated%20measures%20ANOVA.ipynb\n",
    "\n",
    "This code example shows you how to carry out a repeated measures ANOVA test using statsmodels AnovaRM. This notebook contains the code for the YouTube [Tutorial on how to carry out repeated measures anova](https://youtu.be/_X3g-dvlMF0) in Python. You can learn both one-way and two-way anova for repeated measures by watching the video."
   ]
  },
  {
   "cell_type": "code",
   "execution_count": null,
   "metadata": {},
   "outputs": [],
   "source": [
    "import pandas as pd\n",
    "from statsmodels.stats.anova import AnovaRM\n",
    "\n",
    "help(AnovaRM)"
   ]
  },
  {
   "cell_type": "markdown",
   "metadata": {},
   "source": [
    "First we will load some data for 2 groups and see if there is a difference between their means."
   ]
  },
  {
   "cell_type": "code",
   "execution_count": null,
   "metadata": {},
   "outputs": [],
   "source": [
    "df = pd.read_csv('data/rmAOV1way.csv')\n",
    "df.head()"
   ]
  },
  {
   "cell_type": "code",
   "execution_count": null,
   "metadata": {},
   "outputs": [],
   "source": [
    "df.tail()"
   ]
  },
  {
   "cell_type": "markdown",
   "metadata": {},
   "source": [
    "According to the data source, these columns represent the subject identifier number `Sub_id`, the puzzle completion time `rt` which is the dependent variable, and the noise level `cond` which is the independent variable. Note, there are two levels of cond (using df.cond.unique() will show us noise and quiet). \n",
    "\n",
    "The original data source does not specify what the measurements represent, so to make it easy to understand let's say that `rt`, the dependent variable, is how long it takes each subject to complete a puzzle. Each subject is given 2 different puzzles of the same type, and completes one in a quiet setting and one in a noisy setting. \n",
    "\n",
    "We will perform ANOVA on these data to determine if there is a relationship between noise level and puzzle completion time."
   ]
  },
  {
   "cell_type": "code",
   "execution_count": null,
   "metadata": {},
   "outputs": [],
   "source": [
    "aovrm = AnovaRM(df, 'rt', 'Sub_id', within=['cond'])\n",
    "res = aovrm.fit()\n",
    "\n",
    "print(res)"
   ]
  },
  {
   "cell_type": "markdown",
   "metadata": {},
   "source": [
    "Based on this analysis, the P-value is so close to 0 that we can't see any value. This is very strong evidence that there is a difference in mean for the 2 groups."
   ]
  },
  {
   "cell_type": "markdown",
   "metadata": {},
   "source": [
    "Now we will compare 2 different variables, each with 2 categories. This is called 2-way ANOVA. "
   ]
  },
  {
   "cell_type": "code",
   "execution_count": null,
   "metadata": {},
   "outputs": [],
   "source": [
    "df2way = pd.read_csv('data/rmAOV2way.csv')\n",
    "df2way.head()"
   ]
  },
  {
   "cell_type": "code",
   "execution_count": null,
   "metadata": {},
   "outputs": [],
   "source": [
    "df2way.tail()"
   ]
  },
  {
   "cell_type": "markdown",
   "metadata": {},
   "source": [
    "Let's say that in this experiment, as before researchers were giving each subject a puzzle to complete in a quiet setting and a noisy setting. Additionally, in this version the also try with 3 different levels of lighting: lights up, middle, and down. This gives a total of 6 different treatments for each of the 60 subjects, for a total of 360 observations.\n",
    "\n",
    "Our variables are: subject identifier `Sub_id`, puzzle completion time `rt`, noise level `iv1`, and lighting level `iv2`.\n",
    "\n",
    "We are going to test for 3 null hypotheses:\n",
    "\n",
    "* H01: Variable iv1 (noise) has no effect on rt\n",
    "* H02: Variable iv2 (light) has no effect on rt\n",
    "* H03: The two variables noise and light are independent of each other (no interaction)."
   ]
  },
  {
   "cell_type": "markdown",
   "metadata": {},
   "source": [
    "Perform the analysis:"
   ]
  },
  {
   "cell_type": "code",
   "execution_count": null,
   "metadata": {},
   "outputs": [],
   "source": [
    "aovrm2way = AnovaRM(df2way, 'rt', 'Sub_id', within=['iv1', 'iv2'])\n",
    "res2way = aovrm2way.fit()\n",
    "\n",
    "print(res2way)"
   ]
  },
  {
   "cell_type": "markdown",
   "metadata": {},
   "source": [
    "### Conclusion\n",
    "Now we can look at our 3 P values for our 3 hypotheses.\n",
    "\n",
    "For H01, P is approximately 0.\n",
    "For H02, P is approximately 0.\n",
    "For H03, P is 0.159.\n",
    "\n",
    "State what conclusions we can draw from these results."
   ]
  },
  {
   "cell_type": "code",
   "execution_count": null,
   "metadata": {},
   "outputs": [],
   "source": []
  }
 ],
 "metadata": {
  "kernelspec": {
   "display_name": "temp",
   "language": "python",
   "name": "temp"
  },
  "language_info": {
   "codemirror_mode": {
    "name": "ipython",
    "version": 3
   },
   "file_extension": ".py",
   "mimetype": "text/x-python",
   "name": "python",
   "nbconvert_exporter": "python",
   "pygments_lexer": "ipython3",
   "version": "3.8.3"
  }
 },
 "nbformat": 4,
 "nbformat_minor": 2
}
