{
 "cells": [
  {
   "cell_type": "markdown",
   "metadata": {},
   "source": [
    "## Boxplots\n",
    "Boxplots are a great way to communicate the center, spread, shape, and outliers of a distribution of univariate data. It's often the first visualization to reach for when looking at quantitative data. Let's get a quick look at what it shows:\n",
    "https://en.wikipedia.org/wiki/Box_plot\n",
    "\n",
    "Key points:\n",
    "* Center line = median\n",
    "* Box ends = Q1 and Q3\n",
    "* Whisker ends = Min and Max\n",
    "* Each segments contains 25% of the data points\n",
    "* IQR = length of the box\n",
    "* If one side is stretched, the data is skewed that direction\n",
    "* Outliers are represented as points beyond the whiskers (+/- 1.5 IQR past Q1/Q3)"
   ]
  },
  {
   "cell_type": "code",
   "execution_count": null,
   "metadata": {},
   "outputs": [],
   "source": [
    "import matplotlib.pyplot as plt\n",
    "import numpy as np\n",
    "import pandas as pd\n",
    "from scipy import stats\n",
    "import seaborn as sns\n",
    "\n",
    "%matplotlib inline\n",
    "%config InlineBackend.figure_format = 'retina'"
   ]
  },
  {
   "cell_type": "markdown",
   "metadata": {},
   "source": [
    "Let's start by generating a random sample of size 20 from a Normal distribution, and drawing a basic boxplot."
   ]
  },
  {
   "cell_type": "code",
   "execution_count": null,
   "metadata": {},
   "outputs": [],
   "source": [
    "n = 20\n",
    "normal_sample = np.random.normal(size=(n,1))\n",
    "print(normal_sample)\n",
    "sns.boxplot(x=normal_sample, whis=1.5)\n",
    "plt.show()"
   ]
  },
  {
   "cell_type": "markdown",
   "metadata": {},
   "source": [
    "If you don't get any outliers on your boxplot, repeat the above code until you do.\n",
    "\n",
    "Now take a moment to describe what the boxplot shows."
   ]
  },
  {
   "cell_type": "markdown",
   "metadata": {},
   "source": [
    "### How Significant Is A Boxplot Outlier?"
   ]
  },
  {
   "cell_type": "markdown",
   "metadata": {},
   "source": [
    "<img src=\"https://imgs.xkcd.com/comics/boyfriend.png\">\n",
    "\n",
    "*It is common to boxplot as an informal test for the existence of outliers. While the procedure is useful, it should be used with caution, as at least **30% of samples from a normally-distributed population** of any size will be flagged as containing an outlier, while for small samples (N<10) even extreme outliers indicate little. This fact is most easily seen using a simulation.*\n",
    "\n",
    "Journal of Statistics Education Volume 19, Number 2(2011), www.amstat.org/publications/jse/v19n2/dawson.pdf  \n",
    "Robert Dawson, Saint Mary’s University"
   ]
  },
  {
   "cell_type": "markdown",
   "metadata": {},
   "source": [
    "### Definition of Outlier"
   ]
  },
  {
   "cell_type": "markdown",
   "metadata": {},
   "source": [
    "That is, if a data point is below Q1 – 1.5*IQR or above Q3 + 1.5*IQR, it is viewed as being too far from the central values to be reasonable.\n",
    "\n",
    "How does this work with data that is normally distributed? Remember the rule of 68-95-99.7\n",
    "\n",
    "<img src=\"https://upload.wikimedia.org/wikipedia/commons/2/22/Empirical_rule_histogram.svg\">"
   ]
  },
  {
   "cell_type": "markdown",
   "metadata": {},
   "source": [
    "Let's generate a random sample of 10,000 normally distributed values with mean 0 and variance 1, and then plot a histogram of the sample that includes lines showing the +/- 1.5IQR guide lines."
   ]
  },
  {
   "cell_type": "code",
   "execution_count": null,
   "metadata": {},
   "outputs": [],
   "source": [
    "n = 10000\n",
    "normal_sample = np.random.normal(size=(n,1))\n",
    "\n",
    "plt.hist(normal_sample,100)\n",
    "\n",
    "# Indicate the mean with a black dashed line\n",
    "plt.axvline(normal_sample.mean(), color='k', linestyle='dashed', linewidth=1)\n",
    "\n",
    "# Compute the 25th, 50th, and 75th percentiles for the data\n",
    "Q1, median, Q3 = np.percentile(normal_sample, [25,50,75])\n",
    "\n",
    "# TODO: Calculate the IQR\n",
    "IQR = \n",
    "\n",
    "# Indicate the inner and outer guides computed from the IQR\n",
    "# Data outside the inner range guides are outliers\n",
    "# Data outside the outer range guides are extreme values\n",
    "inner_range_lower = Q1 - 1.5*IQR\n",
    "inner_range_upper = Q3 + 1.5*IQR\n",
    "outer_range_lower = Q1 - 3.0*IQR\n",
    "outer_range_upper = Q3 + 3.0*IQR\n",
    "\n",
    "# TODO: Plot 4 more lines for the inner and outer ranges.\n",
    "# Make all of them red. \n",
    "# Make the inner ranges solid lines\n",
    "# Make the outer ranges dotted lines\n",
    "\n",
    "\n",
    "\n",
    "\n",
    "\n",
    "\n",
    "plt.rcParams[\"figure.figsize\"] =(12,9)"
   ]
  },
  {
   "cell_type": "markdown",
   "metadata": {},
   "source": [
    "Now let's create a boxplot with outliers for our sample, directly above a histogram of the same sample and on the same x-axis."
   ]
  },
  {
   "cell_type": "code",
   "execution_count": null,
   "metadata": {},
   "outputs": [],
   "source": [
    "# Cut the plot window into 2 parts\n",
    "f, (ax_box, ax_hist) = plt.subplots(2, sharex=True, \n",
    "                                    gridspec_kw={\"height_ratios\": (.15, .85)})\n",
    " \n",
    "# TODO: Add a boxplot and a distplot. Set the number of bins on the distplot to 20.\n",
    "\n",
    "\n",
    "\n",
    "# Remove x axis name for the boxplot\n",
    "ax_box.set(xlabel='')\n",
    "plt.show()"
   ]
  },
  {
   "cell_type": "markdown",
   "metadata": {},
   "source": [
    "How does this set of plots relate to the previous histogram?"
   ]
  },
  {
   "cell_type": "markdown",
   "metadata": {},
   "source": [
    "### How often will samples from a Normal distribution contain outliers?\n",
    "To find out, let's create a simulation where we randomly sample from a Normal distribution. We will try 5 different sample sizes, so 5 different simulations. For each size, we'll draw 10,000 samples and count how many contain an outlier."
   ]
  },
  {
   "cell_type": "code",
   "execution_count": null,
   "metadata": {},
   "outputs": [],
   "source": [
    "# Number of samples to draw in each experiment\n",
    "sample_sizes = [5, 9, 13, 17, 21]\n",
    "\n",
    "# Number of trials to run for each sample size\n",
    "trials = 10000\n",
    "\n",
    "output_results = {}\n",
    "\n",
    "for s in sample_sizes:\n",
    "\n",
    "    count = 0\n",
    "    for i in range(trials):\n",
    "\n",
    "        # generate a random sample of normally distributed values with mean 0 and variance 1\n",
    "        normal_sample = np.random.normal(size=(s,1))\n",
    "        n, min_max, mean, var, skew, kurt = stats.describe(normal_sample)\n",
    "\n",
    "        # Compute the quartiles, mean, and IQR\n",
    "        Q1, Q2, Q3 = np.percentile(normal_sample, [25,50,75])\n",
    "        IQR = Q3 - Q1\n",
    "\n",
    "        inner = (Q1 - 1.5*IQR, Q3 + 1.5*IQR)\n",
    "        outer = (Q1 - 3.0*IQR, Q3 + 3.0*IQR)\n",
    "\n",
    "        # find samples which are outside the inner range, but inside the outer range\n",
    "        outside_inner = (normal_sample >= inner[0]) & (normal_sample <= inner[1])\n",
    "        inside_outer = (normal_sample >= outer[0]) & (normal_sample <= outer[1])\n",
    "\n",
    "        # if there are any such samples, we say that the boxplot method found suspect outliers, record the result\n",
    "        if any(~outside_inner & inside_outer):\n",
    "            count += 1\n",
    "\n",
    "    output_results[s] = [count]"
   ]
  },
  {
   "cell_type": "code",
   "execution_count": null,
   "metadata": {},
   "outputs": [],
   "source": [
    "df = pd.DataFrame(output_results)\n",
    "df"
   ]
  },
  {
   "cell_type": "markdown",
   "metadata": {},
   "source": [
    "If we consider the boxplot as an informal test of the Null Hypothesis that the sample is from a normally-distributed (and uncontaminated) population, a flagged outlier in a properly-distributed sample corresponds to a “Type I error”. But, as we have just seen, whatever the sample size, the $\\alpha$ of such a test is often close to 30%!\n",
    "\n",
    "Thus, the existence of a datum flagged as a mild outlier can never be taken, on its own, as significant evidence against the purity of the sample or the normality of the population."
   ]
  },
  {
   "cell_type": "code",
   "execution_count": null,
   "metadata": {},
   "outputs": [],
   "source": []
  }
 ],
 "metadata": {
  "kernelspec": {
   "display_name": "temp",
   "language": "python",
   "name": "temp"
  },
  "language_info": {
   "codemirror_mode": {
    "name": "ipython",
    "version": 3
   },
   "file_extension": ".py",
   "mimetype": "text/x-python",
   "name": "python",
   "nbconvert_exporter": "python",
   "pygments_lexer": "ipython3",
   "version": "3.8.3"
  }
 },
 "nbformat": 4,
 "nbformat_minor": 2
}
