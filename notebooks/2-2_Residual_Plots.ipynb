{
 "cells": [
  {
   "cell_type": "markdown",
   "metadata": {},
   "source": [
    "## Evaluating Regression Models with Residual Plots"
   ]
  },
  {
   "cell_type": "markdown",
   "metadata": {},
   "source": [
    "In Notebook 2-1, we used OLS regression to model a linear relationship between two variables. A good way to determine if a linear model is appropriate for a given relationship is to examine the __residuals__. We said that residuals are the prediction error, or the vertical distance from a point to the regression line. Let's look at an OLS plot again, and then make a residual plot of the same data to compare."
   ]
  },
  {
   "cell_type": "code",
   "execution_count": null,
   "metadata": {},
   "outputs": [],
   "source": [
    "import numpy as np\n",
    "from numpy.random import randn\n",
    "import pandas as pd\n",
    "\n",
    "from scipy import stats\n",
    "\n",
    "import matplotlib as mpl\n",
    "import matplotlib.pyplot as plt\n",
    "import seaborn as sns\n",
    "\n",
    "%matplotlib inline\n",
    "%config InlineBackend.figure_format = 'retina'"
   ]
  },
  {
   "cell_type": "code",
   "execution_count": null,
   "metadata": {},
   "outputs": [],
   "source": [
    "tips = sns.load_dataset(\"tips\")\n",
    "sns.regplot(x=\"total_bill\", y=\"tip\", data=tips, ci=None)\n",
    "plt.title(\"Tips Regression\")\n",
    "plt.show()\n",
    "\n",
    "sns.residplot(x=\"total_bill\", y=\"tip\", data=tips)\n",
    "plt.title(\"Tips Residuals\")\n",
    "plt.show()"
   ]
  },
  {
   "cell_type": "markdown",
   "metadata": {},
   "source": [
    "Take a minute to compare the two plots and see if you can identify the relationship between them."
   ]
  },
  {
   "cell_type": "markdown",
   "metadata": {},
   "source": [
    "To evaluate a model using the residual plot, look for any clear pattern. If there is a pattern on the residual plot, that means your model failed to account for that pattern and could be modified to do so. A good residual plot will appear randomly distributed. \n",
    "\n",
    "If there is a clear curve to the residual plot, that means the model hasn't accounted for that curve. If the data is horn-shaped, that means the variance is increasing and should be taken into consideration.\n",
    "\n",
    "Possible explanations for patterns on the residual plot include:\n",
    "* A missing variable\n",
    "* A missing higher-order term of a variable in the model to explain the curvature\n",
    "* A missing interaction between terms already in the model"
   ]
  },
  {
   "cell_type": "markdown",
   "metadata": {},
   "source": [
    "The following article has a lot of good examples of poor residual vs. fitted plots and how to correct your model:\n",
    "http://docs.statwing.com/interpreting-residual-plots-to-improve-your-regression/#x-unbalanced-header"
   ]
  },
  {
   "cell_type": "code",
   "execution_count": null,
   "metadata": {},
   "outputs": [],
   "source": []
  }
 ],
 "metadata": {
  "kernelspec": {
   "display_name": "temp",
   "language": "python",
   "name": "temp"
  },
  "language_info": {
   "codemirror_mode": {
    "name": "ipython",
    "version": 3
   },
   "file_extension": ".py",
   "mimetype": "text/x-python",
   "name": "python",
   "nbconvert_exporter": "python",
   "pygments_lexer": "ipython3",
   "version": "3.8.3"
  }
 },
 "nbformat": 4,
 "nbformat_minor": 2
}
