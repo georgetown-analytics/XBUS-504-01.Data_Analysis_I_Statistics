{
 "cells": [
  {
   "cell_type": "markdown",
   "metadata": {},
   "source": [
    "## Test Your Python Configuration\n",
    "Run the following 3 cells. If you don't get any error messages and the last cell draws a chart, everything is working correctly."
   ]
  },
  {
   "cell_type": "code",
   "execution_count": null,
   "metadata": {},
   "outputs": [],
   "source": [
    "from platform import python_version\n",
    "version = python_version()\n",
    "if version.startswith('3'):\n",
    "    print(f\"Your Python version is {version}, that is good.\")\n",
    "else:\n",
    "    print(\"Your Python version is %s, you must be running Python 3.\" % version)"
   ]
  },
  {
   "cell_type": "code",
   "execution_count": null,
   "metadata": {},
   "outputs": [],
   "source": [
    "try:\n",
    "    import matplotlib\n",
    "    import numpy\n",
    "    import pandas\n",
    "    import scipy\n",
    "    import seaborn\n",
    "except ModuleNotFoundError as e:\n",
    "    print(f\"You are missing the {e.name} package\")\n",
    "    \n",
    "%matplotlib inline\n",
    "\n",
    "# If you have a Mac or other high-res display you can include this:\n",
    "%config InlineBackend.figure_format = 'retina'"
   ]
  },
  {
   "cell_type": "code",
   "execution_count": null,
   "metadata": {},
   "outputs": [],
   "source": [
    "matplotlib.pyplot.hist(numpy.random.randn(100))\n",
    "matplotlib.pyplot.show()"
   ]
  },
  {
   "cell_type": "code",
   "execution_count": null,
   "metadata": {},
   "outputs": [],
   "source": []
  }
 ],
 "metadata": {
  "kernelspec": {
   "display_name": "temp",
   "language": "python",
   "name": "temp"
  },
  "language_info": {
   "codemirror_mode": {
    "name": "ipython",
    "version": 3
   },
   "file_extension": ".py",
   "mimetype": "text/x-python",
   "name": "python",
   "nbconvert_exporter": "python",
   "pygments_lexer": "ipython3",
   "version": "3.8.3"
  }
 },
 "nbformat": 4,
 "nbformat_minor": 2
}
