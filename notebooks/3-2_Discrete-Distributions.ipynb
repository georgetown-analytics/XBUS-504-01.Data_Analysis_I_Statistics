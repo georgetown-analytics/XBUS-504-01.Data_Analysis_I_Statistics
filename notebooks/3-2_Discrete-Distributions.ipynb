{
 "cells": [
  {
   "cell_type": "markdown",
   "metadata": {
    "collapsed": true,
    "slideshow": {
     "slide_type": "slide"
    }
   },
   "source": [
    "## Discrete Probability Distributions\n",
    "### Binomial Distribution"
   ]
  },
  {
   "cell_type": "markdown",
   "metadata": {
    "slideshow": {
     "slide_type": "slide"
    }
   },
   "source": [
    "Definition: A binomial distribution is the discrete probability distribution of the number of successes in a sequence of n independent experiments, each asking a yes–no question with a p probability of success (each experiment is called a Bernoulli trial).\n",
    "\n",
    "Notation: B(n, p)\n",
    "\n",
    "Example: If I roll a die 10 times, how many times will I roll a 1?\n",
    "B(10, 1/6)"
   ]
  },
  {
   "cell_type": "code",
   "execution_count": null,
   "metadata": {},
   "outputs": [],
   "source": [
    "import numpy as np\n",
    "import matplotlib.pyplot as plt\n",
    "from scipy.stats import binom, poisson\n",
    "import ipywidgets as widgets\n",
    "\n",
    "%matplotlib inline\n",
    "%config InlineBackend.figure_format = 'retina'"
   ]
  },
  {
   "cell_type": "markdown",
   "metadata": {},
   "source": [
    "Next define a function <i>plot_pmf</i> that takes arguments $n$ and $p$ and plots the PMF."
   ]
  },
  {
   "cell_type": "code",
   "execution_count": null,
   "metadata": {},
   "outputs": [],
   "source": [
    "def plot_pmf(n, p):\n",
    "    '''\n",
    "    Plot the probability mass function of Binom(n, p).\n",
    "    '''\n",
    "    k = np.arange(0, n + 1)\n",
    "    P_binom = binom.pmf(k, n, p)\n",
    "    plt.plot(k, P_binom, '-o')\n",
    "    \n",
    "    '''\n",
    "    The snippet below sets the axes limits and\n",
    "    associated properties of the plot.\n",
    "    '''\n",
    "    axes = plt.gca()\n",
    "    axes.set_xlim([0, n])\n",
    "    axes.set_ylim([0, 1.1 * max(P_binom)])\n",
    "    plt.title('PMF of Bin(%i, %.2f)' % (n, p))\n",
    "    plt.xlabel('Number k of successes ')\n",
    "    plt.ylabel('Probability of k succcesses')\n",
    "    plt.show()"
   ]
  },
  {
   "cell_type": "markdown",
   "metadata": {},
   "source": [
    "Finally, define an interactive slider that enables you to vary $n$ over $[0,30]$ and $p$ over $[0,1]$ and then plot the resulting PMF according to the updated values of both the parameters."
   ]
  },
  {
   "cell_type": "code",
   "execution_count": null,
   "metadata": {
    "code_folding": [],
    "slideshow": {
     "slide_type": "slide"
    }
   },
   "outputs": [],
   "source": [
    "widgets.interact(\n",
    "    plot_pmf,\n",
    "    n=widgets.IntSlider(min=0, max=30, step=1, value=15),\n",
    "    p=widgets.FloatSlider(min=0, max=1, step=0.01, value=0.5))"
   ]
  },
  {
   "cell_type": "markdown",
   "metadata": {},
   "source": [
    "Explore how adjusting the sliders changes the distribution (particularly center, spread, and shape). Based on the plot, if I roll a die 10 times, how many 6's would you expect I got?"
   ]
  },
  {
   "cell_type": "markdown",
   "metadata": {
    "collapsed": true
   },
   "source": [
    "### Poisson Distribution\n",
    "\n",
    "Definition: A discrete probability distribution that expresses the probability of a given number of events occurring in a fixed interval of time or space if these events occur with a known constant rate and independently of the time since the last event.\n",
    "\n",
    "Notation: λ = expected number of events\n",
    "\n",
    "Example: I normally get 5 pieces of mail every day. On any given day, what are the chances I get 2 pieces of mail? Or 3? or 8? or 10?"
   ]
  },
  {
   "cell_type": "code",
   "execution_count": null,
   "metadata": {},
   "outputs": [],
   "source": [
    "def f(n, λ):\n",
    "    k = np.arange(0, n+1)\n",
    "    P_poisson = poisson.pmf(k, λ)\n",
    "    plt.plot(k, P_poisson, '-o')\n",
    "    plt.title('PMF of Poisson(%i)' %λ)\n",
    "    plt.xlabel('Number of Events')\n",
    "    plt.ylabel('Probability of Number of Events')\n",
    "    plt.show()\n",
    "widgets.interact(f, n=widgets.IntSlider(min=0, max=50, step=1, value=25), λ=widgets.FloatSlider(min=0, max=30, step=0.1, value=5))"
   ]
  },
  {
   "cell_type": "markdown",
   "metadata": {},
   "source": [
    "Again, explore how changing the values of n and λ affect the distribution. Make a note of the value of n and λ if you find a combination that appears similar to a binomial distribution.\n",
    "\n",
    "Based on the above plot, if I normally receive 5 pieces of mail a day, what are the chances I only get 1 piece of mail? 3 pieces? 10 pieces? Is it possible for me to get 20 pieces of mail one day?"
   ]
  },
  {
   "cell_type": "markdown",
   "metadata": {},
   "source": [
    "### Geometric Distribution\n",
    "\n",
    "Definition: The geometric distribution gives the probability that the first success requires k independent Bernoulli trials, each with success probability p.\n",
    "\n",
    "Notation: G(p)\n",
    "\n",
    "Example: If I roll two dice, what are the odds it takes me exactly 2 rolls to get doubles? What are the odds it takes me exactly 4 rolls? What are the odds it takes up to 6 rolls?\n",
    "(The odds of doubles = 6/36 = 1/6 ≈ 0.167)"
   ]
  },
  {
   "cell_type": "code",
   "execution_count": null,
   "metadata": {},
   "outputs": [],
   "source": [
    "def f(p, n_max, CDF):\n",
    "    x = np.arange(1, n_max + 1)\n",
    "    y = [((1 - p)**(z - 1)) * p for z in x]\n",
    "    z = [(1 - (1 - p)**zz) for zz in x]\n",
    "    plt.plot(x, y, 'o-', label='PDF')\n",
    "    if CDF == True:\n",
    "        plt.plot(x, z, 'ro-', label='CDF')\n",
    "    #plt.title(\"Exponential(%.2f)\" %λ, fontsize = 20)\n",
    "    plt.gcf().set_size_inches(20, 10)\n",
    "    axes = plt.gca().set_xlim([1, n_max])\n",
    "    if n_max == 1:\n",
    "        axes = plt.gca().set_xlim([0, 1])\n",
    "        plt.plot([0, 1], [p, p], 'b')\n",
    "        plt.xticks([1])\n",
    "    plt.xlabel('n', fontsize=20)\n",
    "    plt.ylabel('y', fontsize=20)\n",
    "    plt.title('PMF of Geometric(%0.2f)' % p, fontsize=20)\n",
    "    plt.xticks(fontsize=16)\n",
    "    plt.yticks(fontsize=16)\n",
    "    plt.legend(fontsize=18)\n",
    "    plt.show()\n",
    "\n",
    "\n",
    "widgets.interact(\n",
    "    f,\n",
    "    p=widgets.FloatSlider(min=0, max=1, step=0.01, value=0.5),\n",
    "    n_max=widgets.IntSlider(min=1, max=1000, step=1, value=10),\n",
    "    CDF=widgets.ToggleButton(False)\n",
    ")"
   ]
  },
  {
   "cell_type": "markdown",
   "metadata": {},
   "source": [
    "Explore changing the value of p and n_max. Also note that this plot has a button labelled \"CDF\". When you click it, a line representing the Cumulative Distribution Function (CDF) will appear on the plot. The CDF represents the sum of all the p values up to the given n.\n",
    "\n",
    "Based on the CDF, what appears to be the chance it takes me 6 or fewer rolls of two dice to get doubles?"
   ]
  },
  {
   "cell_type": "code",
   "execution_count": null,
   "metadata": {},
   "outputs": [],
   "source": []
  }
 ],
 "metadata": {
  "celltoolbar": "Raw Cell Format",
  "kernelspec": {
   "display_name": "temp",
   "language": "python",
   "name": "temp"
  },
  "language_info": {
   "codemirror_mode": {
    "name": "ipython",
    "version": 3
   },
   "file_extension": ".py",
   "mimetype": "text/x-python",
   "name": "python",
   "nbconvert_exporter": "python",
   "pygments_lexer": "ipython3",
   "version": "3.8.3"
  },
  "toc": {
   "colors": {
    "hover_highlight": "#DAA520",
    "navigate_num": "#000000",
    "navigate_text": "#333333",
    "running_highlight": "#FF0000",
    "selected_highlight": "#FFD700",
    "sidebar_border": "#EEEEEE",
    "wrapper_background": "#FFFFFF"
   },
   "moveMenuLeft": true,
   "nav_menu": {
    "height": "30px",
    "width": "252px"
   },
   "navigate_menu": true,
   "number_sections": true,
   "sideBar": true,
   "skip_h1_title": false,
   "threshold": 4,
   "toc_cell": false,
   "toc_position": {},
   "toc_section_display": "block",
   "toc_window_display": false,
   "widenNotebook": false
  },
  "widgets": {
   "state": {
    "41da8f3ef9334979af647714135e417f": {
     "views": [
      {
       "cell_index": 10
      }
     ]
    },
    "42415920558d47f2867a2086b9ee564c": {
     "views": [
      {
       "cell_index": 4
      }
     ]
    },
    "90e883c24e444103a75e99a9c16d0895": {
     "views": [
      {
       "cell_index": 16
      }
     ]
    }
   },
   "version": "1.2.0"
  }
 },
 "nbformat": 4,
 "nbformat_minor": 2
}
