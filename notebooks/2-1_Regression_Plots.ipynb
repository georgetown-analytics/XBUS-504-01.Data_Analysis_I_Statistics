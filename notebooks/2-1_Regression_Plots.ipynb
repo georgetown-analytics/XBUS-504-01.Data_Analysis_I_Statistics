{
 "cells": [
  {
   "cell_type": "markdown",
   "metadata": {},
   "source": [
    "## Regression Plots"
   ]
  },
  {
   "cell_type": "code",
   "execution_count": null,
   "metadata": {},
   "outputs": [],
   "source": [
    "# Our standard imports for visualization\n",
    "import numpy as np\n",
    "from numpy.random import randn\n",
    "import pandas as pd\n",
    "\n",
    "from scipy import stats\n",
    "\n",
    "import matplotlib as mpl\n",
    "import matplotlib.pyplot as plt\n",
    "import seaborn as sns\n",
    "\n",
    "%matplotlib inline\n",
    "%config InlineBackend.figure_format = 'retina'"
   ]
  },
  {
   "cell_type": "markdown",
   "metadata": {},
   "source": [
    "Since Seaborn is the statistical visualization package, we will use it's *regplot()* function to \"Plot data and a linear regression model fit.\"\n",
    "https://seaborn.pydata.org/generated/seaborn.regplot.html\n",
    "\n",
    "We'll start by loading a sample Seaborn dataset that contains information on tips received by restaurant staff."
   ]
  },
  {
   "cell_type": "code",
   "execution_count": null,
   "metadata": {},
   "outputs": [],
   "source": [
    "tips = sns.load_dataset(\"tips\")\n",
    "\n",
    "tips.head()"
   ]
  },
  {
   "cell_type": "markdown",
   "metadata": {},
   "source": [
    "Previewing the data, we can see we will probably want to use tip as our dependent variable, so choose that as *y*. Let's start by examining total_bill as the independent variable, *x*."
   ]
  },
  {
   "cell_type": "code",
   "execution_count": null,
   "metadata": {},
   "outputs": [],
   "source": [
    "sns.regplot(x=\"total_bill\", y=\"tip\", data=tips)\n",
    "plt.show()"
   ]
  },
  {
   "cell_type": "markdown",
   "metadata": {},
   "source": [
    "We see the standard scatter plot of the points, and we also see that by default Seaborn draws a regression line and a shaded 95% confidence interval for the regression line (we will discuss confidence intervals in the next course section)."
   ]
  },
  {
   "cell_type": "markdown",
   "metadata": {},
   "source": [
    "We would probably like to know some basic information about the regression model, such as equation and *r* value. Seaborn does not show us that information, but we can easily calculate it with SciPy."
   ]
  },
  {
   "cell_type": "code",
   "execution_count": null,
   "metadata": {},
   "outputs": [],
   "source": [
    "lin_reg = stats.linregress(x=tips[\"total_bill\"], y=tips[\"tip\"])\n",
    "print(lin_reg)"
   ]
  },
  {
   "cell_type": "markdown",
   "metadata": {},
   "source": [
    "Now we have all the values we need, if we want to put it into the standard equation for a line we just need to remember *y=mx+b*. We can see the type of the lin_reg variable is LinregressResult, but it is actually inherited from a tuple so we can just treat it like a tuple to select the values we need."
   ]
  },
  {
   "cell_type": "code",
   "execution_count": null,
   "metadata": {},
   "outputs": [],
   "source": [
    "slope = lin_reg[0]\n",
    "intercept = lin_reg[1]\n",
    "r_value = lin_reg[2]\n",
    "print(f\"y = {slope}x + {intercept}\")\n",
    "print(f\"Correlation Coefficient r: {r_value}\")"
   ]
  },
  {
   "cell_type": "markdown",
   "metadata": {},
   "source": [
    "This line is called the Least Squares Regression Line (LSRL) or Ordinary Least Squares (OLS) regression. That is because it minimizes the square of the residuals for all of the points to the line. Residuals are the prediction error for the actual points (the vertical distance from each point to the line). \n",
    "\n",
    "To visualize what the LSRL is minimizing when you have time (or if you finish this notebook early), check this applet: \n",
    "https://phet.colorado.edu/sims/html/least-squares-regression/latest/least-squares-regression_en.html\n",
    "\n",
    "First select a dataset from the drop down at the top. Next, select the two checkboxes on the right that say \"Residuals\" and \"Squared Residuals\". Use the sliders to adjust your line to try to minimize the total area of all the boxes (shown next to \"sum\"). When you think you have minimized the sum, select the \"Best Fit Line\" on the left and see how it compares to your line."
   ]
  },
  {
   "cell_type": "markdown",
   "metadata": {},
   "source": [
    "#### Make a Prediction"
   ]
  },
  {
   "cell_type": "markdown",
   "metadata": {},
   "source": [
    "If we want to use the regression line to make a prediction for tip based on a bill of $37.50, we can make the calculation manually using this equation."
   ]
  },
  {
   "cell_type": "code",
   "execution_count": null,
   "metadata": {},
   "outputs": [],
   "source": [
    "bill = 37.50\n",
    "\n",
    "# TODO: Calculate the predicted tip using slope, intecept, and bill:\n",
    "tip_pred = \n",
    "\n",
    "print(f\"We predict a bill of ${bill} to generate a tip of ${tip_pred}.\")"
   ]
  },
  {
   "cell_type": "markdown",
   "metadata": {},
   "source": [
    "One quick change before we continue making plots, let's fix the decimals on that prediction statement by modifying the f-string."
   ]
  },
  {
   "cell_type": "code",
   "execution_count": null,
   "metadata": {},
   "outputs": [],
   "source": [
    "print(f\"We predict a bill of ${bill:.2f} to generate a tip of ${tip_pred:.2f}.\")"
   ]
  },
  {
   "cell_type": "markdown",
   "metadata": {},
   "source": [
    "If we want to change or remove the shaded confidence interval, we can do that with the ci argument. We can also print our equation and r value as a legend using a keyword argument."
   ]
  },
  {
   "cell_type": "code",
   "execution_count": null,
   "metadata": {},
   "outputs": [],
   "source": [
    "# TODO: Fix the label so that Python uses an f-string to automatically\n",
    "# insert the actual values for slope, intercept, and r_value\n",
    "ax = sns.regplot(x=\"total_bill\", y=\"tip\", data=tips, ci=None, \n",
    "                 line_kws={'label':f\"y = slope * x + intercept\\nr: r_value\"})\n",
    "ax.legend()\n",
    "plt.show()"
   ]
  },
  {
   "cell_type": "markdown",
   "metadata": {},
   "source": [
    "We can continue modifying the plot with additional arguments. We can change properties of the points and the line separately."
   ]
  },
  {
   "cell_type": "code",
   "execution_count": null,
   "metadata": {},
   "outputs": [],
   "source": [
    "ax = sns.regplot(x=\"total_bill\", y=\"tip\", data=tips, ci=None, \n",
    "                 scatter_kws={'color': 'olive'},\n",
    "                 line_kws={'label':f\"y = {slope:.4f}x + {intercept:.4f}\\nr: {r_value:.4f}\",\n",
    "                           'linewidth': 1, \"color\": \"darkorchid\"})\n",
    "ax.legend()\n",
    "plt.show()"
   ]
  },
  {
   "cell_type": "markdown",
   "metadata": {},
   "source": [
    "If we think that perhaps this data has a higher-order trend (i.e. polynomial instead of linear), we can specify what degree polynomial to fit with the *order* argument. Note that I'm removing the legend since that no longer describes the regression line."
   ]
  },
  {
   "cell_type": "code",
   "execution_count": null,
   "metadata": {},
   "outputs": [],
   "source": [
    "sns.regplot(x=\"total_bill\", y=\"tip\", data=tips, ci=None, order=4,\n",
    "                 scatter_kws={'color': 'olive'},\n",
    "                 line_kws={'linewidth': 1, \"color\": \"darkorchid\"})\n",
    "plt.show()"
   ]
  },
  {
   "cell_type": "markdown",
   "metadata": {},
   "source": [
    "Let's say that now we want to examine if there is any relationship involving the categorical variables in the data. Let's start by looking for a difference by sex.\n",
    "\n",
    "To do this we will switch from the *regplot()* function to the *lmplot()* function, since *regplot()* is for a single regression model, and *lmplot()* is designed to display multiple models on a single plot. The arguments are mostly the same.\n",
    "https://seaborn.pydata.org/generated/seaborn.lmplot.html#seaborn.lmplot\n",
    "\n",
    "We can color the points by passing our variable of choice to the *hue* argument. We will also change the markers to make them easier to separate visually."
   ]
  },
  {
   "cell_type": "code",
   "execution_count": null,
   "metadata": {},
   "outputs": [],
   "source": [
    "sns.lmplot(x=\"total_bill\", y=\"tip\", data=tips, hue=\"sex\",markers=[\"x\",\"o\"])\n",
    "plt.show()"
   ]
  },
  {
   "cell_type": "markdown",
   "metadata": {},
   "source": [
    "Take a moment to describe what you see in the above plot."
   ]
  },
  {
   "cell_type": "markdown",
   "metadata": {},
   "source": [
    "Now let's try comparing by day of the week and see if there are any trends visible."
   ]
  },
  {
   "cell_type": "code",
   "execution_count": null,
   "metadata": {},
   "outputs": [],
   "source": [
    "# TODO: Change the order of the days in the legend so that they are reversed,\n",
    "# from Sunday to Thursday (Look at the documentation for lmplot())\n",
    "sns.lmplot(\"total_bill\", \"tip\", tips, hue=\"day\")\n",
    "plt.show()"
   ]
  },
  {
   "cell_type": "markdown",
   "metadata": {},
   "source": [
    "Describe this plot. Does it provide any additional information than the previous plots?"
   ]
  },
  {
   "cell_type": "code",
   "execution_count": null,
   "metadata": {},
   "outputs": [],
   "source": []
  }
 ],
 "metadata": {
  "kernelspec": {
   "display_name": "temp",
   "language": "python",
   "name": "temp"
  },
  "language_info": {
   "codemirror_mode": {
    "name": "ipython",
    "version": 3
   },
   "file_extension": ".py",
   "mimetype": "text/x-python",
   "name": "python",
   "nbconvert_exporter": "python",
   "pygments_lexer": "ipython3",
   "version": "3.8.3"
  }
 },
 "nbformat": 4,
 "nbformat_minor": 2
}
