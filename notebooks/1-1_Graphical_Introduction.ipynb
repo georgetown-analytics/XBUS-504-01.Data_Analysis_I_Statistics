{
 "cells": [
  {
   "cell_type": "markdown",
   "metadata": {},
   "source": [
    "## An Introduction to Graphically Displaying data in Python"
   ]
  },
  {
   "cell_type": "markdown",
   "metadata": {},
   "source": [
    "### Start by importing all the packages we will need, and setting any global settings.\n",
    "\n",
    "If you haven't yet read PEP8, now is a good time to introduce it. It does not discuss Notebooks, but we will still try to follow the conventions as closely as possible.\n",
    "\n",
    "https://www.python.org/dev/peps/pep-0008/"
   ]
  },
  {
   "cell_type": "code",
   "execution_count": null,
   "metadata": {},
   "outputs": [],
   "source": [
    "# Numpy = Numeric Computing\n",
    "import numpy as np\n",
    "# MatPlotLib = classic Python math plotting library\n",
    "import matplotlib.mlab as mlab\n",
    "import matplotlib.pyplot as plt\n",
    "# Pandas = Python Data Analysis, home of the DataFrame\n",
    "import pandas as pd\n",
    "# Seaborn = Statistical plotting built on top of MatPlotLib\n",
    "import seaborn as sns\n",
    "\n",
    "sns.set(style=\"ticks\", color_codes=True)\n",
    "\n",
    "# Tell MatPlotLib to draw plots inline with the code outputs\n",
    "%matplotlib inline\n",
    "\n",
    "# If you have a Mac or other high-res display you can include this:\n",
    "%config InlineBackend.figure_format = 'retina'"
   ]
  },
  {
   "cell_type": "markdown",
   "metadata": {},
   "source": [
    "#### Generate random univariate data from a Normal distribution to use as example"
   ]
  },
  {
   "cell_type": "code",
   "execution_count": null,
   "metadata": {},
   "outputs": [],
   "source": [
    "# We set the random seed so that we always get the same \"random\" result.\n",
    "# If you want your results to vary each time, don't set a seed.\n",
    "np.random.seed(0)\n",
    "\n",
    "# mu = 100, mean of distribution\n",
    "# sigma = 15, standard deviation of distribution\n",
    "x = 100 + 15 * np.random.randn(437)"
   ]
  },
  {
   "cell_type": "markdown",
   "metadata": {},
   "source": [
    "#### Create a Histogram of our random data"
   ]
  },
  {
   "cell_type": "code",
   "execution_count": null,
   "metadata": {},
   "outputs": [],
   "source": [
    "# In a histogram, bins will display as bars\n",
    "num_bins = 20\n",
    "\n",
    "fig, ax = plt.subplots()\n",
    "\n",
    "# Create the histogram of the data\n",
    "n, bins, patches = ax.hist(x, num_bins)"
   ]
  },
  {
   "cell_type": "markdown",
   "metadata": {},
   "source": [
    "#### Load the famous Iris dataset from Fisher (1936)"
   ]
  },
  {
   "cell_type": "code",
   "execution_count": null,
   "metadata": {},
   "outputs": [],
   "source": [
    "iris = sns.load_dataset(\"iris\")\n",
    "\n",
    "# The data is loaded to a Pandas DataFrame, so we can easily\n",
    "# explore using common Pandas functions like head()\n",
    "print(iris.head())"
   ]
  },
  {
   "cell_type": "markdown",
   "metadata": {},
   "source": [
    "We can see that the variables are all quantitative, except species which appears to be categorical. Let's find out all the species types in this data set:"
   ]
  },
  {
   "cell_type": "code",
   "execution_count": null,
   "metadata": {},
   "outputs": [],
   "source": [
    "print(f\"Species types: {iris['species'].unique()}\")"
   ]
  },
  {
   "cell_type": "markdown",
   "metadata": {},
   "source": [
    "As data scientists, we are usually not Subject Matter Experts (SMEs) in the area in which we are working, so take the time to find out about your data. What is a sepal, and how is it related to/different from a petal?\n",
    "\n",
    "<img src=\"images/iris.png\">"
   ]
  },
  {
   "cell_type": "markdown",
   "metadata": {},
   "source": [
    "First, let's make a quick scatterplot between Sepal Length and Sepal Width. Scatterplots are a way to visualize the relationship between variables in __bivariate__ quantitative data. They simply make a plot of points, with each point representing one observation of the data."
   ]
  },
  {
   "cell_type": "code",
   "execution_count": null,
   "metadata": {},
   "outputs": [],
   "source": [
    "sns.regplot(x=iris[\"sepal_length\"], y=iris[\"sepal_width\"], fit_reg=False)\n",
    "plt.show()"
   ]
  },
  {
   "cell_type": "markdown",
   "metadata": {},
   "source": [
    "Examine this plot. Does it show a clear relationship? "
   ]
  },
  {
   "cell_type": "markdown",
   "metadata": {},
   "source": [
    "#### Create a Pair Plot of the Iris data\n",
    "A Pair Plot is a collection of scatterplots and histograms. This is a nice way to see all of the relationships between each pair of quantitative variables. Just be aware that the more quantitative variables you have, the bigger the grid will get. It's very common to see new Data Scientists have such a big grid you can't actually read any individual graph.\n",
    "\n",
    "Any time you want more information on a plotting function (or any Python function!), start with the official documentation:\n",
    "\n",
    "https://seaborn.pydata.org/generated/seaborn.pairplot.html"
   ]
  },
  {
   "cell_type": "code",
   "execution_count": null,
   "metadata": {},
   "outputs": [],
   "source": [
    "g = sns.pairplot(iris)\n",
    "plt.show()"
   ]
  },
  {
   "cell_type": "markdown",
   "metadata": {},
   "source": [
    "Let's take a moment to describe what we can see from the data so far.\n",
    "\n",
    "\n",
    "That is a good start, but we know from the head() command above that the species is a categorical data, so let's color the plots based on species and see if we discover anything new."
   ]
  },
  {
   "cell_type": "code",
   "execution_count": null,
   "metadata": {},
   "outputs": [],
   "source": [
    "g = sns.pairplot(iris, hue=\"species\")\n",
    "plt.show()"
   ]
  },
  {
   "cell_type": "markdown",
   "metadata": {},
   "source": [
    "We can see that some variables show a stronger separation between species categories than others, so if we want to try to predict species from the other variables, we could select just the variables with the greatest separation."
   ]
  },
  {
   "cell_type": "code",
   "execution_count": null,
   "metadata": {},
   "outputs": [],
   "source": [
    "g = sns.pairplot(iris, height=3, diag_kind=\"hist\",\n",
    "                 vars=[\"sepal_length\", \"petal_length\"], hue=\"species\")"
   ]
  },
  {
   "cell_type": "markdown",
   "metadata": {},
   "source": [
    "#### One more data set: Ames, Iowa Housing (De Cock, 2011)"
   ]
  },
  {
   "cell_type": "code",
   "execution_count": null,
   "metadata": {},
   "outputs": [],
   "source": [
    "# We'll load from a CSV file using the built in Pandas function read_csv:\n",
    "data = pd.read_csv('data/AmesHousing.txt', sep='\\t')\n",
    "\n",
    "# This data has so many columns, Pandas would normally only display the first few.\n",
    "# We'll force it to show us everything and scroll horizontally to view.\n",
    "pd.options.display.max_columns = 999\n",
    "\n",
    "data.head(10)"
   ]
  },
  {
   "cell_type": "markdown",
   "metadata": {},
   "source": [
    "Now, let's get a quick visually summary with another Pair Plot:"
   ]
  },
  {
   "cell_type": "code",
   "execution_count": null,
   "metadata": {},
   "outputs": [],
   "source": [
    "g = sns.pairplot(data, height=3, vars=['Lot Area','Gr Liv Area','SalePrice'], kind=\"reg\")"
   ]
  },
  {
   "cell_type": "markdown",
   "metadata": {},
   "source": [
    "Not bad, but it seems like there are some outliers that make it hard to see the main bulk of the data. Let's select only properties that aren't really big or really expensive based on what we see in our Pair Plot. Later we will learn more rigorous ways of determining cutoffs, but for now we'll just pick some arbitrary numbers so we don't have any major outliers."
   ]
  },
  {
   "cell_type": "code",
   "execution_count": null,
   "metadata": {},
   "outputs": [],
   "source": [
    "selected_data = data[ (data['Lot Area']<20000) & (data['SalePrice']<500000) ]"
   ]
  },
  {
   "cell_type": "code",
   "execution_count": null,
   "metadata": {},
   "outputs": [],
   "source": [
    "g = sns.pairplot(selected_data, height=3, vars=['Lot Area','Gr Liv Area','SalePrice'], \n",
    "                 kind=\"reg\")"
   ]
  },
  {
   "cell_type": "code",
   "execution_count": null,
   "metadata": {},
   "outputs": [],
   "source": []
  }
 ],
 "metadata": {
  "kernelspec": {
   "display_name": "temp",
   "language": "python",
   "name": "temp"
  },
  "language_info": {
   "codemirror_mode": {
    "name": "ipython",
    "version": 3
   },
   "file_extension": ".py",
   "mimetype": "text/x-python",
   "name": "python",
   "nbconvert_exporter": "python",
   "pygments_lexer": "ipython3",
   "version": "3.8.3"
  }
 },
 "nbformat": 4,
 "nbformat_minor": 2
}
