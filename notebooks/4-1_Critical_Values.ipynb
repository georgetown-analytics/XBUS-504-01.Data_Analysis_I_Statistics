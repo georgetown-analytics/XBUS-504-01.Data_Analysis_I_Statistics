{
 "cells": [
  {
   "cell_type": "markdown",
   "metadata": {},
   "source": [
    "## Calculating Critical Values"
   ]
  },
  {
   "cell_type": "code",
   "execution_count": null,
   "metadata": {},
   "outputs": [],
   "source": [
    "from scipy import stats\n",
    "import matplotlib.pyplot as plt\n",
    "import numpy as np\n",
    "\n",
    "%matplotlib inline\n",
    "%config InlineBackend.figure_format = 'retina'"
   ]
  },
  {
   "cell_type": "markdown",
   "metadata": {},
   "source": [
    "First we will examine the `scipy.stats.norm.ppf` Percent Point Function to see why we need to convert our confidence level before passing it to the function. `ppf` takes a percentage as an input and returns the z-score that has that area to the left of it."
   ]
  },
  {
   "cell_type": "code",
   "execution_count": null,
   "metadata": {},
   "outputs": [],
   "source": [
    "p = 0.95\n",
    "one_tail = stats.norm.ppf(p)\n",
    "print(f\"One tailed z that produces area of 95%: {one_tail}\")"
   ]
  },
  {
   "cell_type": "markdown",
   "metadata": {},
   "source": [
    "#### Visualizing One-tailed z"
   ]
  },
  {
   "cell_type": "code",
   "execution_count": null,
   "metadata": {},
   "outputs": [],
   "source": [
    "# Standard Normal values:\n",
    "mean, stdev = 0, 1\n",
    "# x values to plot: range from -4 to 4  \n",
    "x = np.arange(mean-4*stdev, mean+4*stdev, 0.001)\n",
    "# y values to plot: The Normal Probability Distribution Function (normal curve)\n",
    "y = stats.norm.pdf(x, mean, stdev)\n",
    "\n",
    "z_shade = x[x < one_tail]\n",
    "# Draw the Normal curve\n",
    "plt.plot(x, y)\n",
    "# Shade from the z-score and to the right, from y=0 to the Normal curve\n",
    "plt.fill_between(z_shade, 0, stats.norm.pdf(z_shade, mean, stdev))\n",
    "\n",
    "plt.title(\"One-tailed z for 95%\")\n",
    "plt.text(2, 0.35, f\"z: {one_tail:0.3f}\\np: {p:0.3f}\")\n",
    "plt.show()"
   ]
  },
  {
   "cell_type": "markdown",
   "metadata": {},
   "source": [
    "Notice that this does not look like a confidence interval (point estimate +/- margin of error). It is only one-tailed. We need to redo the calculations to make it two-tailed. The area we are concerned it is about the __middle__ 95%, not the first 95%."
   ]
  },
  {
   "cell_type": "code",
   "execution_count": null,
   "metadata": {},
   "outputs": [],
   "source": [
    "# TODO: Adjust the formula from one_tail so that it produces the correct z*.\n",
    "# Remember: the ppf function calculates the value that produces the area to \n",
    "# the __left__ of the z.\n",
    "two_tail = \n",
    "print(f\"Two tailed z that produces area of 95%: {two_tail}\")\n",
    "\n",
    "z_shade = x[(-two_tail < x) & (x < two_tail)]\n",
    "plt.plot(x, y)\n",
    "plt.fill_between(z_shade, 0, stats.norm.pdf(z_shade, mean, stdev))\n",
    "\n",
    "plt.title(\"Two-tailed z* for 95%\")\n",
    "plt.text(2, 0.35, f\"z*: {two_tail:0.3f}\\np: {p:0.3f}\")\n",
    "plt.show()"
   ]
  },
  {
   "cell_type": "markdown",
   "metadata": {},
   "source": [
    "What is the critical value for a Standard Normal distribution with a confidence level of 98%? 80%?"
   ]
  },
  {
   "cell_type": "code",
   "execution_count": null,
   "metadata": {},
   "outputs": [],
   "source": [
    "# TODO: Calculate critical values for 98% and 80% CL\n",
    "z_98 = \n",
    "print(f\"z* that produces area of 98%: {z_98}\")\n",
    "\n",
    "z_80 = \n",
    "print(f\"z* that produces area of 80%: {z_80}\")"
   ]
  },
  {
   "cell_type": "markdown",
   "metadata": {},
   "source": [
    "Compare the critical values for the confidence levels of 80%, 95%, and 98%. What is the relationship between confidence level and size of the interval produced?"
   ]
  },
  {
   "cell_type": "markdown",
   "metadata": {},
   "source": [
    "## Calculating Critical Values from Student's t-distribution"
   ]
  },
  {
   "cell_type": "markdown",
   "metadata": {},
   "source": [
    "What is the critical value for a Student's t-distribution with 9 degrees of freedom and a 95% confidence level?\n",
    "\n",
    "19 degrees of freedom and 95% CL?\n",
    "\n",
    "99 degrees of freedom and 95% CL?"
   ]
  },
  {
   "cell_type": "code",
   "execution_count": null,
   "metadata": {},
   "outputs": [],
   "source": [
    "# TODO: Calculate t* critical values for 95% CL and 9 df, 19 df, and 99 df.\n",
    "cl = 0.95\n",
    "df_9 = 9\n",
    "t_9 = \n",
    "\n",
    "df_19 = 19\n",
    "t_19 = \n",
    "\n",
    "df_99 = 99\n",
    "t_99 = \n",
    "\n",
    "print(f\"t* for 95% and {df_9} degrees of freedom:  {t_9:.3f}\")\n",
    "print(f\"t* for 95% and {df_19} degrees of freedom: {t_19:.3f}\")\n",
    "print(f\"t* for 95% and {df_99} degrees of freedom: {t_99:.3f}\")"
   ]
  },
  {
   "cell_type": "markdown",
   "metadata": {},
   "source": [
    "### Visualizing t-distributions for different degrees of freedom"
   ]
  },
  {
   "cell_type": "code",
   "execution_count": null,
   "metadata": {},
   "outputs": [],
   "source": [
    "mean, stdev = 0, 1\n",
    "x = np.arange(-4, 4, 0.001)\n",
    "\n",
    "y_9 = stats.t.pdf(x, df_9, mean, stdev)\n",
    "t_9_shade = x[(-t_9 < x) & (x < t_9)]\n",
    "plt.plot(x, y_9, color='red')\n",
    "plt.fill_between(t_9_shade, 0, stats.t.pdf(t_9_shade, df_9, mean, stdev), facecolor='red', alpha=.25)\n",
    "\n",
    "y_19 = stats.t.pdf(x, df_19, mean, stdev)\n",
    "t_19_shade = x[(-t_19 < x) & (x < t_19)]\n",
    "plt.plot(x, y_19, color='green')\n",
    "plt.fill_between(t_19_shade, 0, stats.t.pdf(t_19_shade, df_19, mean, stdev), facecolor='green', alpha=.25)\n",
    "\n",
    "y_99 = stats.t.pdf(x, df_99, mean, stdev)\n",
    "t_99_shade = x[(-t_99 < x) & (x < t_99)]\n",
    "plt.plot(x, y_99, color='blue')\n",
    "plt.fill_between(t_99_shade, 0, stats.t.pdf(t_99_shade, df_99, mean, stdev), facecolor='blue', alpha=.25)\n",
    "\n",
    "plt.legend(['df = 9','df = 19', 'df = 99'])\n",
    "plt.show()"
   ]
  },
  {
   "cell_type": "code",
   "execution_count": null,
   "metadata": {},
   "outputs": [],
   "source": []
  }
 ],
 "metadata": {
  "kernelspec": {
   "display_name": "temp",
   "language": "python",
   "name": "temp"
  },
  "language_info": {
   "codemirror_mode": {
    "name": "ipython",
    "version": 3
   },
   "file_extension": ".py",
   "mimetype": "text/x-python",
   "name": "python",
   "nbconvert_exporter": "python",
   "pygments_lexer": "ipython3",
   "version": "3.8.3"
  }
 },
 "nbformat": 4,
 "nbformat_minor": 2
}
