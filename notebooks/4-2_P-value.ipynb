{
 "cells": [
  {
   "cell_type": "code",
   "execution_count": null,
   "metadata": {},
   "outputs": [],
   "source": [
    "from scipy import stats\n",
    "import matplotlib.pyplot as plt\n",
    "import numpy as np\n",
    "from statsmodels.stats.proportion import proportions_ztest\n",
    "import math\n",
    "\n",
    "%matplotlib inline\n",
    "%config InlineBackend.figure_format = 'retina'"
   ]
  },
  {
   "cell_type": "markdown",
   "metadata": {},
   "source": [
    "#### Hypothesis test for p:\n",
    "A grocery chain decides to investigate whether customers prefer name-brand potato chips to generic potato chips. They randomly selected 50 customers and had each customer blindly try both types of chips, in random order. Overall, 32 of the 50 customers preferred the name-brand chips. Perform a significance test using the hypotheses: \n",
    "\n",
    "    H0: p = 0.5 versus Ha: p > 0.5 \n",
    "    \n",
    "Where p = the true proportion of customers who prefer name-brand chips. "
   ]
  },
  {
   "cell_type": "markdown",
   "metadata": {},
   "source": [
    "#### Calculate the z-score and p-value manually"
   ]
  },
  {
   "cell_type": "code",
   "execution_count": null,
   "metadata": {},
   "outputs": [],
   "source": [
    "count = 32\n",
    "nobs = 50\n",
    "p_h0 = 0.50\n",
    "p_hat = count/nobs\n",
    "st_err = math.sqrt(p_h0*(1-p_h0)/nobs)\n",
    "z_score = (p_hat - p_h0)/st_err\n",
    "print(f\"Z-score: {z_score}\")"
   ]
  },
  {
   "cell_type": "code",
   "execution_count": null,
   "metadata": {},
   "outputs": [],
   "source": [
    "# cdf = Cumulative Distribution Function. \n",
    "# Takes a z-score, returns the area under the normal curve to the left of that z.\n",
    "p_value = 1 - stats.norm.cdf(z_score)\n",
    "print(f\"P-value: {p_value}\")"
   ]
  },
  {
   "cell_type": "markdown",
   "metadata": {},
   "source": [
    "#### Calculate the z-score and p-value with `statsmodels`:\n",
    "http://www.statsmodels.org/stable/generated/statsmodels.stats.proportion.proportions_ztest.html"
   ]
  },
  {
   "cell_type": "code",
   "execution_count": null,
   "metadata": {},
   "outputs": [],
   "source": [
    "# TODO: Fill in the correct arguments for the z-test:\n",
    "z_score, p_value = proportions_ztest(    )\n",
    "print(f\"Z-score: {z_score}\")\n",
    "print(f\"P-value: {p_value}\")"
   ]
  },
  {
   "cell_type": "markdown",
   "metadata": {},
   "source": [
    "#### Display the p-value on a Normal distribution:"
   ]
  },
  {
   "cell_type": "code",
   "execution_count": null,
   "metadata": {},
   "outputs": [],
   "source": [
    "mu, sigma = p_h0, st_err\n",
    "x = np.arange(mu-4*sigma, mu+4*sigma, 0.001)\n",
    "y = stats.norm.pdf(x, mu, sigma)\n",
    "z_shade = x[x > p_hat]\n",
    "plt.plot(x, y)\n",
    "# Shade from the z-score and to the right, from y=0 to the Normal curve\n",
    "plt.fill_between(z_shade, 0, stats.norm.pdf(z_shade, mu, sigma))\n",
    "\n",
    "plt.title(\"p-value\")\n",
    "plt.text(0.6, 4, f\"Z-score: {z_score:0.3f}\\nP-value: {p_value:0.3f}\")\n",
    "plt.xlabel('Proportion who prefer brand name chips')\n",
    "plt.show()"
   ]
  },
  {
   "cell_type": "markdown",
   "metadata": {},
   "source": [
    "What conclusion would you make at each of the following significance levels?\n",
    "\n",
    "* α = 0.05\n",
    "* α = 0.01\n",
    "\n",
    "Be sure to use the context of the question in stating your conclusions!"
   ]
  },
  {
   "cell_type": "code",
   "execution_count": null,
   "metadata": {},
   "outputs": [],
   "source": []
  }
 ],
 "metadata": {
  "kernelspec": {
   "display_name": "temp",
   "language": "python",
   "name": "temp"
  },
  "language_info": {
   "codemirror_mode": {
    "name": "ipython",
    "version": 3
   },
   "file_extension": ".py",
   "mimetype": "text/x-python",
   "name": "python",
   "nbconvert_exporter": "python",
   "pygments_lexer": "ipython3",
   "version": "3.8.3"
  }
 },
 "nbformat": 4,
 "nbformat_minor": 2
}
