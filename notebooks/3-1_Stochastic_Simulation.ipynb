{
 "cells": [
  {
   "cell_type": "markdown",
   "metadata": {},
   "source": [
    "## Stochastic Simulation\n",
    "\n",
    "Let's simulate the following scenario: \n",
    "\n",
    "Flip 2 coins and roll 2 dice. What is the probability that you get 2 heads and both dice are at least 5?\n",
    "\n",
    "First, let's import the *random* library we'll need to generate random integers. "
   ]
  },
  {
   "cell_type": "code",
   "execution_count": null,
   "metadata": {},
   "outputs": [],
   "source": [
    "import random"
   ]
  },
  {
   "cell_type": "markdown",
   "metadata": {},
   "source": [
    "Now, let's create a function that will simulate a trial of our simulation (flip 2 coins, roll 2 dice). We will create a dictionary that will translate 0's and 1's to heads and tails. Next we will randomly generate either a 0 or 1 for each coin, and then randomly generate a number 1-6 for each die. We will return all of these as a dictionary with keys 'coins' and 'dice'."
   ]
  },
  {
   "cell_type": "code",
   "execution_count": null,
   "metadata": {},
   "outputs": [],
   "source": [
    "def flip_2_coins_roll_2_dice():\n",
    "    coin_lookup = {0: 'H', 1: 'T'}\n",
    "    \n",
    "    coin1 = random.randint(0, 1)\n",
    "    coin2 = random.randint(0, 1)\n",
    "    \n",
    "    die1 = random.randint(1,6)\n",
    "    die2 = random.randint(1,6)\n",
    "    \n",
    "    results = {\n",
    "        'coins': [coin_lookup[coin1], coin_lookup[coin2]],\n",
    "        'dice': [die1, die2]\n",
    "    }\n",
    "    \n",
    "    return results"
   ]
  },
  {
   "cell_type": "markdown",
   "metadata": {},
   "source": [
    "Let's run our function once so we know what format the results will be in:"
   ]
  },
  {
   "cell_type": "code",
   "execution_count": null,
   "metadata": {},
   "outputs": [],
   "source": [
    "flip_2_coins_roll_2_dice()"
   ]
  },
  {
   "cell_type": "markdown",
   "metadata": {},
   "source": [
    "Now we need to run a simulation. Let's write a for loop that will run our simulation for n = 1,000 trials. We will record all of the results in a list."
   ]
  },
  {
   "cell_type": "code",
   "execution_count": null,
   "metadata": {},
   "outputs": [],
   "source": [
    "simulation_results = []\n",
    "n = 1000\n",
    "for i in range(n):\n",
    "    result = flip_2_coins_roll_2_dice()\n",
    "    simulation_results.append(result)"
   ]
  },
  {
   "cell_type": "markdown",
   "metadata": {},
   "source": [
    "Check that we have 1,000 results:"
   ]
  },
  {
   "cell_type": "code",
   "execution_count": null,
   "metadata": {},
   "outputs": [],
   "source": [
    "print(len(simulation_results))"
   ]
  },
  {
   "cell_type": "markdown",
   "metadata": {},
   "source": [
    "Now we need to count how many of our trials results in 2 heads and both coins 5 or greater. Let's write another for loop that checks each trial and counts how many successes we had."
   ]
  },
  {
   "cell_type": "code",
   "execution_count": null,
   "metadata": {},
   "outputs": [],
   "source": [
    "success_count = 0\n",
    "for result in simulation_results:\n",
    "    if result['coins'] == ['H', 'H'] and all(die >= 5 for die in result['dice']):\n",
    "            success_count += 1\n",
    "\n",
    "print(success_count)"
   ]
  },
  {
   "cell_type": "markdown",
   "metadata": {},
   "source": [
    "Next, let's calculate our estimated probability of success, and print it as a percentage also."
   ]
  },
  {
   "cell_type": "code",
   "execution_count": null,
   "metadata": {},
   "outputs": [],
   "source": [
    "probability_success = success_count/n\n",
    "print(\"The probability of flipping 2 coins and rolling 2 dice,\"\n",
    "      \"and getting 2 heads and both dice 5 or greater is:\")\n",
    "print(f\"Probability: {probability_success:.4f}\")\n",
    "print(f\"Percentage: {100*probability_success:.2f}%\")"
   ]
  },
  {
   "cell_type": "markdown",
   "metadata": {},
   "source": [
    "Good! Since that was so fast, let's run another simulation, but this time with n = 1,000,000 trials. That's the power of stochastic computing! While we are at it, we will also make our code a little more Pythonic."
   ]
  },
  {
   "cell_type": "code",
   "execution_count": null,
   "metadata": {},
   "outputs": [],
   "source": [
    "long_n = 1000000\n",
    "long_simulation_results = [flip_2_coins_roll_2_dice() for _ in range(long_n)]"
   ]
  },
  {
   "cell_type": "markdown",
   "metadata": {},
   "source": [
    "Notice that this time we are using a list comprehension instead of a plain for loop. This is generally not faster (for loops are already very optimized), but the code is more concise, which is nice. For more info on list comprehensions:\n",
    "\n",
    "https://www.pythonforbeginners.com/basics/list-comprehensions-in-python\n",
    "\n",
    "Also notice that this time, instead of saying `for i in range`, we used `for _ in range`. The reason for this is that we never actually needed to use the variable i for anything. It was just a counter for how many times we ran the loop. If you need a dummy variable in Python, the convention is to use the underscore \\_. For more informations on underscores and when to use them (including double underscores or dunders):\n",
    "\n",
    "https://www.datacamp.com/community/tutorials/role-underscore-python"
   ]
  },
  {
   "cell_type": "markdown",
   "metadata": {},
   "source": [
    "Next let's count how many success our long simulation had."
   ]
  },
  {
   "cell_type": "code",
   "execution_count": null,
   "metadata": {},
   "outputs": [],
   "source": [
    "long_success_count = 0\n",
    "for result in long_simulation_results:\n",
    "    if result['coins'] == ['H', 'H'] and all(die >= 5 for die in result['dice']):\n",
    "            long_success_count += 1\n",
    "\n",
    "print(long_success_count)"
   ]
  },
  {
   "cell_type": "markdown",
   "metadata": {},
   "source": [
    "And we will calculate the probability again:"
   ]
  },
  {
   "cell_type": "code",
   "execution_count": null,
   "metadata": {},
   "outputs": [],
   "source": [
    "long_probability_success = long_success_count/long_n\n",
    "print(\"The probability of flipping 2 coins and rolling 2 dice,\"\n",
    "      \"and getting 2 heads and both dice 5 or greater is:\")\n",
    "print(f\"Probability: {long_probability_success:.4f}\")\n",
    "print(f\"Percentage: {100*long_probability_success:.2f}%\")"
   ]
  },
  {
   "cell_type": "markdown",
   "metadata": {},
   "source": [
    "Based on what we know about the Law of Large Numbers, what do you think the results of our two simulations mean? What conclusion can we make?"
   ]
  },
  {
   "cell_type": "code",
   "execution_count": null,
   "metadata": {},
   "outputs": [],
   "source": []
  }
 ],
 "metadata": {
  "kernelspec": {
   "display_name": "temp",
   "language": "python",
   "name": "temp"
  },
  "language_info": {
   "codemirror_mode": {
    "name": "ipython",
    "version": 3
   },
   "file_extension": ".py",
   "mimetype": "text/x-python",
   "name": "python",
   "nbconvert_exporter": "python",
   "pygments_lexer": "ipython3",
   "version": "3.8.3"
  }
 },
 "nbformat": 4,
 "nbformat_minor": 2
}
