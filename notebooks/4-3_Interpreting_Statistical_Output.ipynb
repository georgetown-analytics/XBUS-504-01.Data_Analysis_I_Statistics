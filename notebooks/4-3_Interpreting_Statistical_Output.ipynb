{
 "cells": [
  {
   "cell_type": "markdown",
   "metadata": {},
   "source": [
    "### Interpreting Statistical Output\n",
    "We've already performed Linear (OLS) Regression to describe a relationship between two numeric variables. Let's revisit this topic and see if we can understand more of the outputs from the model now that we have covered more topics."
   ]
  },
  {
   "cell_type": "code",
   "execution_count": null,
   "metadata": {},
   "outputs": [],
   "source": [
    "import seaborn as sns\n",
    "import statsmodels.api as sm"
   ]
  },
  {
   "cell_type": "code",
   "execution_count": null,
   "metadata": {},
   "outputs": [],
   "source": [
    "tips = sns.load_dataset(\"tips\")\n",
    "model = sm.OLS(tips['tip'], sm.add_constant(tips['total_bill']))\n",
    "regression_results = model.fit()\n",
    "print(regression_results.params)"
   ]
  },
  {
   "cell_type": "markdown",
   "metadata": {},
   "source": [
    "We get our expected outputs from the regression model in the `params` attribute. `const` is the y-intercept and `tip` is the coefficient of x, since `tip` was our x variable. We can turn that into an equation like we did in notebook 2-1, either using x and y or using variable names."
   ]
  },
  {
   "cell_type": "code",
   "execution_count": null,
   "metadata": {},
   "outputs": [],
   "source": [
    "print(f\"y = {regression_results.params['total_bill']:.3f}x + {regression_results.params['const']:.3f}\")\n",
    "print(f\"predicted_tip = {regression_results.params['total_bill']:.3f} * total_bill + {regression_results.params['const']:.3f}\")"
   ]
  },
  {
   "cell_type": "markdown",
   "metadata": {},
   "source": [
    "Look at that equation. What would be the predicted tip if the bill was $0? For every $1 on the bill, how much should we expect the tip to increase?"
   ]
  },
  {
   "cell_type": "markdown",
   "metadata": {},
   "source": [
    "Let's also review the summary of the regression results and discuss what information here we have now covered in the course."
   ]
  },
  {
   "cell_type": "code",
   "execution_count": null,
   "metadata": {},
   "outputs": [],
   "source": [
    "regression_results.summary()"
   ]
  },
  {
   "cell_type": "code",
   "execution_count": null,
   "metadata": {},
   "outputs": [],
   "source": []
  }
 ],
 "metadata": {
  "kernelspec": {
   "display_name": "temp",
   "language": "python",
   "name": "temp"
  },
  "language_info": {
   "codemirror_mode": {
    "name": "ipython",
    "version": 3
   },
   "file_extension": ".py",
   "mimetype": "text/x-python",
   "name": "python",
   "nbconvert_exporter": "python",
   "pygments_lexer": "ipython3",
   "version": "3.8.3"
  }
 },
 "nbformat": 4,
 "nbformat_minor": 2
}
